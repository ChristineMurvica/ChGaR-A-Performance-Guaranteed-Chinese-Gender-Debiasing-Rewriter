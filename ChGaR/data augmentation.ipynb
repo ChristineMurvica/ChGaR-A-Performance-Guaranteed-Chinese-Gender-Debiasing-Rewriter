{
 "cells": [
  {
   "cell_type": "code",
   "execution_count": 1,
   "metadata": {},
   "outputs": [],
   "source": [
    "import pandas as pd\n",
    "import numpy as np\n",
    "import re\n",
    "import random\n",
    "import sklearn"
   ]
  },
  {
   "cell_type": "code",
   "execution_count": 21,
   "metadata": {},
   "outputs": [],
   "source": [
    "ori_data=pd.read_csv(\"test.csv\")\n",
    "ori_data=ori_data.drop(\"Unnamed: 0\", axis=1)"
   ]
  },
  {
   "cell_type": "code",
   "execution_count": 22,
   "metadata": {},
   "outputs": [],
   "source": [
    "tran1=ori_data.loc[ori_data['0.1.1']==1]#7400\n",
    "tran0=ori_data.loc[ori_data['0.1.1']==0]#7305"
   ]
  },
  {
   "cell_type": "code",
   "execution_count": 23,
   "metadata": {},
   "outputs": [],
   "source": [
    "tran1=tran1.sample(n=3700,replace=False,axis=0)\n",
    "tran0=tran0.sample(n=3700,replace=False,axis=0)\n",
    "f=pd.concat([tran1,tran0],axis=0,join='outer')\n",
    "f=sklearn.utils.shuffle(f) "
   ]
  },
  {
   "cell_type": "code",
   "execution_count": 24,
   "metadata": {},
   "outputs": [
    {
     "data": {
      "text/plain": [
       "53646                        他们正越来越深入地开始进入中国的政治生活\n",
       "55423                                   是每个做母父的心愿\n",
       "57093                                   怀恋往昔的春春年华\n",
       "101950    但她正是利用这种批评割了了黑格尔作为集大成者与美国自由主义的联系关注于这种联系\n",
       "48122                                      等等另一方面\n",
       "                           ...                   \n",
       "103937                           她没有明确说通货膨胀应是百分之几\n",
       "64569                                     三姐妹会的活动\n",
       "3084                               即认为人追求自我利益的最大化\n",
       "103310                                向她们的教练员表示意意\n",
       "45458                              物理课的总学时比以前少了很多\n",
       "Length: 14800, dtype: object"
      ]
     },
     "execution_count": 24,
     "metadata": {},
     "output_type": "execute_result"
    }
   ],
   "source": [
    "r=pd.concat([f.iloc[:,0],f.iloc[:,1]])\n",
    "r=sklearn.utils.shuffle(r) \n",
    "r"
   ]
  },
  {
   "cell_type": "code",
   "execution_count": 25,
   "metadata": {},
   "outputs": [
    {
     "data": {
      "text/plain": [
       "14800"
      ]
     },
     "execution_count": 25,
     "metadata": {},
     "output_type": "execute_result"
    }
   ],
   "source": [
    "#r[115242]\n",
    "len(r)"
   ]
  },
  {
   "cell_type": "code",
   "execution_count": 51,
   "metadata": {},
   "outputs": [],
   "source": [
    "r.to_csv(\"data_aug.csv\", encoding=\"utf-8\")"
   ]
  }
 ],
 "metadata": {
  "kernelspec": {
   "display_name": "Python 3 (ipykernel)",
   "language": "python",
   "name": "python3"
  },
  "language_info": {
   "codemirror_mode": {
    "name": "ipython",
    "version": 3
   },
   "file_extension": ".py",
   "mimetype": "text/x-python",
   "name": "python",
   "nbconvert_exporter": "python",
   "pygments_lexer": "ipython3",
   "version": "3.7.0"
  }
 },
 "nbformat": 4,
 "nbformat_minor": 5
}
