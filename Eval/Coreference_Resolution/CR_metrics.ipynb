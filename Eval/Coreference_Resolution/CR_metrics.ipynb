{
 "cells": [
  {
   "cell_type": "code",
   "execution_count": null,
   "metadata": {
    "colab": {
     "base_uri": "https://localhost:8080/"
    },
    "executionInfo": {
     "elapsed": 39010.0,
     "status": "ok",
     "timestamp": 1.655992261451E12,
     "user": {
      "displayName": "Yingtong Lu",
      "userId": "17390311547718909221"
     },
     "user_tz": -480.0
    },
    "id": "j4LseT60Yl4V",
    "outputId": "09400947-13f6-442a-b15c-48ed4ad51fa4"
   },
   "outputs": [
    {
     "name": "stdout",
     "output_type": "stream",
     "text": [
      "Mounted at /content/drive\n"
     ]
    }
   ],
   "source": [
    "#!/usr/bin/python\n",
    "# -*- coding: <encoding name> -*-\n",
    "import os\n",
    "from google.colab import drive\n",
    "drive.mount('/content/drive')"
   ]
  },
  {
   "cell_type": "code",
   "execution_count": null,
   "metadata": {
    "colab": {
     "base_uri": "https://localhost:8080/"
    },
    "executionInfo": {
     "elapsed": 386.0,
     "status": "ok",
     "timestamp": 1.655992265882E12,
     "user": {
      "displayName": "Yingtong Lu",
      "userId": "17390311547718909221"
     },
     "user_tz": -480.0
    },
    "id": "uzTwfvs3Ynwh",
    "outputId": "0304aab9-0dab-44c6-ce50-d5ee60079e08"
   },
   "outputs": [
    {
     "name": "stdout",
     "output_type": "stream",
     "text": [
      "/content/drive/My Drive/gender_bias\n"
     ]
    }
   ],
   "source": [
    "cd '/content/drive/My Drive/gender_bias'"
   ]
  },
  {
   "cell_type": "code",
   "execution_count": null,
   "metadata": {
    "colab": {
     "base_uri": "https://localhost:8080/"
    },
    "executionInfo": {
     "elapsed": 11049.0,
     "status": "ok",
     "timestamp": 1.655992278481E12,
     "user": {
      "displayName": "Yingtong Lu",
      "userId": "17390311547718909221"
     },
     "user_tz": -480.0
    },
    "id": "18-KYnrpeR8U",
    "outputId": "bc5f2076-55eb-489b-8d9b-3a6f630b53cf"
   },
   "outputs": [
    {
     "name": "stdout",
     "output_type": "stream",
     "text": [
      "Looking in indexes: https://pypi.org/simple, https://us-python.pkg.dev/colab-wheels/public/simple/\n",
      "Collecting hanlp_restful\n",
      "  Downloading hanlp_restful-0.0.17.tar.gz (8.4 kB)\n",
      "Collecting hanlp_common\n",
      "  Downloading hanlp_common-0.0.15.tar.gz (27 kB)\n",
      "Collecting phrasetree\n",
      "  Downloading phrasetree-0.0.8.tar.gz (42 kB)\n",
      "\u001b[K     |████████████████████████████████| 42 kB 863 kB/s \n",
      "\u001b[?25hBuilding wheels for collected packages: hanlp-restful, hanlp-common, phrasetree\n",
      "  Building wheel for hanlp-restful (setup.py) ... \u001b[?25l\u001b[?25hdone\n",
      "  Created wheel for hanlp-restful: filename=hanlp_restful-0.0.17-py3-none-any.whl size=8264 sha256=b3bc07ee31d851d1e406ac6c7e0275eb197f2516d89541ace49bc2c53d9f4621\n",
      "  Stored in directory: /root/.cache/pip/wheels/45/08/f6/b45b93faff08691dff178e15befe39f477c9231bee46c1bfb2\n",
      "  Building wheel for hanlp-common (setup.py) ... \u001b[?25l\u001b[?25hdone\n",
      "  Created wheel for hanlp-common: filename=hanlp_common-0.0.15-py3-none-any.whl size=29762 sha256=39dc7c83d1446c3aad3b2adfabd20d47e7f00e335b2d3d4df45dec2318679606\n",
      "  Stored in directory: /root/.cache/pip/wheels/90/3f/31/a488bc50d3e49a7c5b57ccf44e32c2fd66578ca52a731529ce\n",
      "  Building wheel for phrasetree (setup.py) ... \u001b[?25l\u001b[?25hdone\n",
      "  Created wheel for phrasetree: filename=phrasetree-0.0.8-py3-none-any.whl size=44235 sha256=4ac22c6aa64bca1570432236e33a64145af3d765721bc10512bafbbd20614c7e\n",
      "  Stored in directory: /root/.cache/pip/wheels/5c/00/7b/195f300c36302f4eff31f80f52c4b976247550a2af888b3f0c\n",
      "Successfully built hanlp-restful hanlp-common phrasetree\n",
      "Installing collected packages: phrasetree, hanlp-common, hanlp-restful\n",
      "Successfully installed hanlp-common-0.0.15 hanlp-restful-0.0.17 phrasetree-0.0.8\n",
      "Looking in indexes: https://pypi.org/simple, https://us-python.pkg.dev/colab-wheels/public/simple/\n",
      "Collecting metric4coref\n",
      "  Downloading metric4coref-0.0.1-py3-none-any.whl (3.4 kB)\n",
      "Requirement already satisfied: numpy>=1.18 in /usr/local/lib/python3.7/dist-packages (from metric4coref) (1.21.6)\n",
      "Requirement already satisfied: scipy>=1.4.1 in /usr/local/lib/python3.7/dist-packages (from metric4coref) (1.4.1)\n",
      "Installing collected packages: metric4coref\n",
      "Successfully installed metric4coref-0.0.1\n"
     ]
    }
   ],
   "source": [
    "!pip install hanlp_restful     # 共指消解模型\n",
    "!pip install metric4coref     # 评估方法"
   ]
  },
  {
   "cell_type": "code",
   "execution_count": null,
   "metadata": {
    "id": "e25bbbf6"
   },
   "outputs": [],
   "source": [
    "from hanlp_restful import HanLPClient\n",
    "HanLP = HanLPClient('https://www.hanlp.com/api', auth='MTE4OEBiYnMuaGFubHAuY29tOjB5MXR5TXFRMlRIT3ZSM2c=', language='zh') # auth不填则匿名，zh中文，mul多语种"
   ]
  },
  {
   "cell_type": "code",
   "execution_count": null,
   "metadata": {
    "id": "17Wsri7nkxSM"
   },
   "outputs": [],
   "source": [
    "import jieba\n",
    "import time\n",
    "import numpy as np\n",
    "import re\n",
    "from metric4coref import muc, ceaf, b_cubed, conll_coref_f1\n",
    "from scipy import spatial"
   ]
  },
  {
   "cell_type": "markdown",
   "metadata": {
    "id": "iqwavoZ-AuJA"
   },
   "source": [
    "## 数据读取"
   ]
  },
  {
   "cell_type": "code",
   "execution_count": null,
   "metadata": {
    "id": "27O8Dekisn7F"
   },
   "outputs": [],
   "source": [
    "pro_dev=[]\n",
    "with open('pro_stereotyped_type1_dev_ch.txt','r')as f:\n",
    "    lines=f.readlines()\n",
    "    for i,line in enumerate(lines):\n",
    "        if i<99:\n",
    "            pro_dev.append(line[2:-2])\n",
    "        else:\n",
    "            pro_dev.append(line[3:-2])"
   ]
  },
  {
   "cell_type": "code",
   "execution_count": null,
   "metadata": {
    "id": "pn6_fpr16sKA"
   },
   "outputs": [],
   "source": [
    "re_pro_dev=[]\n",
    "with open('re_wri_pro_stereotyped_type1_dev_ch.txt','r')as f:\n",
    "    lines=f.readlines()\n",
    "    for i,line in enumerate(lines):\n",
    "        if i<99:\n",
    "            re_pro_dev.append(line[2:-2])\n",
    "        else:\n",
    "            re_pro_dev.append(line[3:-2])"
   ]
  },
  {
   "cell_type": "code",
   "execution_count": null,
   "metadata": {
    "id": "EowYHJJteBEx"
   },
   "outputs": [],
   "source": [
    "anti_dev=[]\n",
    "with open('anti_stereotyped_type1_dev_ch.txt','r',encoding='gbk')as f:\n",
    "    lines=f.readlines()\n",
    "    for i,line in enumerate(lines):\n",
    "        if i<99:\n",
    "            anti_dev.append(line[2:-2])\n",
    "        else:\n",
    "            anti_dev.append(line[3:-2])"
   ]
  },
  {
   "cell_type": "markdown",
   "metadata": {
    "id": "BDziXtcaAxw8"
   },
   "source": [
    "## 提取数据的标注簇"
   ]
  },
  {
   "cell_type": "code",
   "execution_count": null,
   "metadata": {
    "id": "RQodpHXmfwYr"
   },
   "outputs": [],
   "source": [
    "ori_anti_dev_c=[]\n",
    "for dev in anti_dev:\n",
    "  res = re.findall(r'\\[(.*?)\\]',dev)\n",
    "  ori_anti_dev_c.append(res)\n",
    "\n",
    "ori_pro_dev_c=[]\n",
    "for dev in pro_dev:\n",
    "  res = re.findall(r'\\[(.*?)\\]',dev)\n",
    "  ori_pro_dev_c.append(res)\n",
    "\n",
    "ori_re_pro_dev_c=[]\n",
    "for dev in re_pro_dev:\n",
    "  res = re.findall(r'\\[(.*?)\\]',dev)\n",
    "  ori_re_pro_dev_c.append(res)\n",
    "ori_anti_dev_c"
   ]
  },
  {
   "cell_type": "code",
   "execution_count": null,
   "metadata": {
    "id": "7G9DKX0igBmh"
   },
   "outputs": [],
   "source": [
    "# 去除句子中的[]\n",
    "anti_dev_clean=[]\n",
    "for dev in anti_dev:\n",
    "  dev=dev.replace('[','')\n",
    "  dev=dev.replace(']','')\n",
    "  dev=dev.replace(' ','')\n",
    "  anti_dev_clean.append(dev)"
   ]
  },
  {
   "cell_type": "code",
   "execution_count": null,
   "metadata": {
    "id": "RN8Nplv0s6F7"
   },
   "outputs": [],
   "source": [
    "re_pro_dev_clean=[]\n",
    "for dev in re_pro_dev:\n",
    "  dev=dev.replace('[','')\n",
    "  dev=dev.replace(']','')\n",
    "  dev=dev.replace(' ','')\n",
    "  re_pro_dev_clean.append(dev)"
   ]
  },
  {
   "cell_type": "code",
   "execution_count": null,
   "metadata": {},
   "outputs": [],
   "source": [
    "pro_dev_clean=[]\n",
    "for dev in pro_dev:\n",
    "  dev=dev.replace('[','')\n",
    "  dev=dev.replace(']','')\n",
    "  dev=dev.replace(' ','')\n",
    "  pro_dev_clean.append(dev)"
   ]
  },
  {
   "cell_type": "code",
   "execution_count": null,
   "metadata": {
    "id": "-wzRhjLMjagL"
   },
   "outputs": [],
   "source": [
    "# re_pro共指消解\n",
    "re_pro_res=[]\n",
    "for i,dev in enumerate(re_pro_dev_clean):\n",
    "  print(i)\n",
    "  try:\n",
    "    r = HanLP.coreference_resolution(dev)\n",
    "  except:\n",
    "    print('休息一下')\n",
    "    time.sleep(40)\n",
    "  re_pro_res.append(r)"
   ]
  },
  {
   "cell_type": "code",
   "execution_count": null,
   "metadata": {
    "id": "a407b04b"
   },
   "outputs": [],
   "source": [
    "# anti共指消解\n",
    "res=[]\n",
    "for i,dev in enumerate(anti_dev_clean):\n",
    "  print(i)\n",
    "  try:\n",
    "    r = HanLP.coreference_resolution(dev)\n",
    "  except:\n",
    "    print('休息一下')\n",
    "    time.sleep(40)\n",
    "  res.append(r)"
   ]
  },
  {
   "cell_type": "code",
   "execution_count": null,
   "metadata": {},
   "outputs": [],
   "source": [
    "# pro共指消解\n",
    "pro_res=[]\n",
    "for i,dev in enumerate(pro_dev_clean):\n",
    "  print(i)\n",
    "  try:\n",
    "    r = HanLP.coreference_resolution(dev)\n",
    "  except:\n",
    "    print('休息一下')\n",
    "    time.sleep(40)\n",
    "  pro_res.append(r)"
   ]
  },
  {
   "cell_type": "code",
   "execution_count": null,
   "metadata": {
    "id": "WCkO24abzuN1"
   },
   "outputs": [],
   "source": [
    "# np.save('anti_res.npy', res) # 注意带上后缀名\n",
    "# np.save('pro_res.npy', pro_res) # 注意带上后缀名\n",
    "# np.save('re_pro_res.npy', re_pro_res) # 注意带上后缀名"
   ]
  },
  {
   "cell_type": "markdown",
   "metadata": {
    "id": "-_H_q6OJB2zb"
   },
   "source": [
    "## 共指消解结果评估"
   ]
  },
  {
   "cell_type": "code",
   "execution_count": null,
   "metadata": {
    "id": "l6Ax9rdNz5qu"
   },
   "outputs": [],
   "source": [
    "anti_res=np.load('anti_res.npy',allow_pickle=True)\n",
    "pro_res=np.load('pro_res.npy',allow_pickle=True)\n",
    "re_pro_res=np.load('re_pro_res.npy',allow_pickle=True)\n",
    "anti_res"
   ]
  },
  {
   "cell_type": "code",
   "execution_count": null,
   "metadata": {
    "id": "iFKNDLmfwTqg"
   },
   "outputs": [],
   "source": [
    "re_pro_cluster=[]\n",
    "for r in re_pro_res:\n",
    "  re_pro_cluster.append(r['clusters'])\n",
    "\n",
    "pro_cluster=[]\n",
    "for r in pro_res:\n",
    "  pro_cluster.append(r['clusters'])"
   ]
  },
  {
   "cell_type": "code",
   "execution_count": null,
   "metadata": {
    "id": "QwpU-NztZ51E"
   },
   "outputs": [],
   "source": [
    "cluster=[]\n",
    "for r in anti_res:\n",
    "  cluster.append(r['clusters'])\n",
    "cluster"
   ]
  },
  {
   "cell_type": "code",
   "execution_count": null,
   "metadata": {
    "id": "F2xUUEst0BPX"
   },
   "outputs": [],
   "source": [
    "eval_anti_c=[]\n",
    "eval_anti_0=[]\n",
    "for c in cluster:\n",
    "  try:\n",
    "    eval_anti_c.append([c[0][0][0],c[0][1][0]])\n",
    "    eval_anti_0.append(c[0][0][0])\n",
    "  except:\n",
    "    eval_anti_c.append([])\n",
    "    eval_anti_0.append('')\n",
    "\n",
    "eval_pro_c=[]\n",
    "eval_pro_0=[]\n",
    "for c in pro_cluster:\n",
    "  try:\n",
    "    eval_pro_c.append([c[0][0][0],c[0][1][0]])\n",
    "    eval_pro_0.append(c[0][0][0])\n",
    "  except:\n",
    "    eval_pro_c.append([])\n",
    "    eval_pro_0.append('')\n",
    "\n",
    "eval_re_pro_c=[]\n",
    "eval_re_pro_0=[]\n",
    "for c in re_pro_cluster:\n",
    "  try:\n",
    "    eval_re_pro_c.append([c[0][0][0],c[0][1][0]])\n",
    "    eval_re_pro_0.append(c[0][0][0])\n",
    "  except:\n",
    "    eval_re_pro_c.append([])\n",
    "    eval_re_pro_0.append('')"
   ]
  },
  {
   "cell_type": "code",
   "execution_count": null,
   "metadata": {
    "colab": {
     "base_uri": "https://localhost:8080/"
    },
    "executionInfo": {
     "elapsed": 828.0,
     "status": "ok",
     "timestamp": 1.655995194344E12,
     "user": {
      "displayName": "Yingtong Lu",
      "userId": "17390311547718909221"
     },
     "user_tz": -480.0
    },
    "id": "TArro--DEKZB",
    "outputId": "b54c9e8b-4031-4219-9cc5-8ac55b7a19fe"
   },
   "outputs": [
    {
     "name": "stdout",
     "output_type": "stream",
     "text": [
      "0.3383838383838384\n",
      "0.30808080808080807\n"
     ]
    }
   ],
   "source": [
    "# 计算欧氏距离，证明模型无偏\n",
    "# 去偏前\n",
    "count_0=0\n",
    "for x,y in zip(eval_anti_0,eval_pro_0):\n",
    "  if x!=y:\n",
    "    count_0+=1\n",
    "edistance_0=count_0/len(eval_anti_0)\n",
    "print(edistance_0)\n",
    "\n",
    "# 去偏后\n",
    "count_1=0\n",
    "for x,y in zip(eval_anti_0,eval_re_pro_0):\n",
    "  if x!=y:\n",
    "    count_1+=1\n",
    "edistance_1=count_1/len(eval_anti_0)\n",
    "print(edistance_1)"
   ]
  },
  {
   "cell_type": "code",
   "execution_count": null,
   "metadata": {
    "colab": {
     "base_uri": "https://localhost:8080/"
    },
    "executionInfo": {
     "elapsed": 861.0,
     "status": "ok",
     "timestamp": 1.655995544145E12,
     "user": {
      "displayName": "Yingtong Lu",
      "userId": "17390311547718909221"
     },
     "user_tz": -480.0
    },
    "id": "0YlCl3RIypwK",
    "outputId": "8f63b4c0-7013-47ca-f1be-f3bc7daee845"
   },
   "outputs": [
    {
     "name": "stdout",
     "output_type": "stream",
     "text": [
      "(0.776595744680851, 0.776595744680851, 0.776595744680851)\n",
      "(0.79, 0.79, 0.79)\n"
     ]
    }
   ],
   "source": [
    "# 证明性能保持\n",
    "print(b_cubed(ori_pro_dev_c, eval_anti_c))     # 去偏前的准确性\n",
    "print(b_cubed(ori_pro_dev_c, eval_re_pro_c))     # 去偏后的准确性"
   ]
  },
  {
   "cell_type": "code",
   "execution_count": null,
   "metadata": {
    "id": "wLgazRS710hm"
   },
   "outputs": [],
   "source": []
  }
 ],
 "metadata": {
  "colab": {
   "collapsed_sections": [],
   "name": "trans.ipynb",
   "provenance": []
  },
  "kernelspec": {
   "display_name": "Python 3 (ipykernel)",
   "language": "python",
   "name": "python3"
  },
  "language_info": {
   "codemirror_mode": {
    "name": "ipython",
    "version": 3
   },
   "file_extension": ".py",
   "mimetype": "text/x-python",
   "name": "python",
   "nbconvert_exporter": "python",
   "pygments_lexer": "ipython3",
   "version": "3.7.0"
  }
 },
 "nbformat": 4,
 "nbformat_minor": 5
}
